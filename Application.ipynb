{
 "cells": [
  {
   "cell_type": "markdown",
   "metadata": {},
   "source": [
    "# Import Packages and Database"
   ]
  },
  {
   "cell_type": "code",
   "execution_count": 1,
   "metadata": {},
   "outputs": [
    {
     "name": "stderr",
     "output_type": "stream",
     "text": [
      "WARNING: Logging before flag parsing goes to stderr.\n",
      "W1208 13:09:02.082365  4300 deprecation.py:323] From E:\\ApplicationsFast\\envs\\tf_gpu\\lib\\site-packages\\tensorflow_core\\python\\compat\\v2_compat.py:71: disable_resource_variables (from tensorflow.python.ops.variable_scope) is deprecated and will be removed in a future version.\n",
      "Instructions for updating:\n",
      "non-resource variables are not supported in the long term\n"
     ]
    }
   ],
   "source": [
    "import cv2\n",
    "import os\n",
    "import numpy as np\n",
    "from numpy import genfromtxt\n",
    "import pandas as pd\n",
    "import tensorflow as tf\n",
    "from tensorflow.keras.models import Sequential\n",
    "from tensorflow.keras.layers import Conv2D, ZeroPadding2D, Activation, Input, concatenate\n",
    "from tensorflow.keras.models import Model\n",
    "from tensorflow.keras.layers import BatchNormalization\n",
    "from tensorflow.keras.layers import MaxPooling2D, AveragePooling2D\n",
    "from tensorflow.keras.layers import Concatenate\n",
    "from tensorflow.keras.layers import Lambda, Flatten, Dense\n",
    "from tensorflow.keras.initializers import glorot_uniform\n",
    "from tensorflow.keras.layers import Layer\n",
    "from tensorflow.keras import backend as K\n",
    "K.set_image_data_format('channels_first')\n",
    "\n",
    "from Utils.fr_utils import *\n",
    "from Utils.inception_blocks_v2 import *\n",
    "from Utils.FR_UtilsV2 import *\n",
    "from Utils.detection_utils import *\n"
   ]
  },
  {
   "cell_type": "code",
   "execution_count": 2,
   "metadata": {},
   "outputs": [
    {
     "name": "stderr",
     "output_type": "stream",
     "text": [
      "W1208 13:09:28.848149  4300 deprecation.py:506] From E:\\ApplicationsFast\\envs\\tf_gpu\\lib\\site-packages\\tensorflow_core\\python\\ops\\resource_variable_ops.py:1630: calling BaseResourceVariable.__init__ (from tensorflow.python.ops.resource_variable_ops) with constraint is deprecated and will be removed in a future version.\n",
      "Instructions for updating:\n",
      "If using Keras pass *_constraint arguments to layers.\n"
     ]
    }
   ],
   "source": [
    "import tensorflow.compat.v1 as tf\n",
    "tf.disable_v2_behavior()\n",
    "\n",
    "FRmodel = faceRecoModel(input_shape=(3, 96, 96))\n",
    "FRmodel.compile(optimizer = 'adam', loss = triplet_loss, metrics = ['accuracy'])\n",
    "load_weights_from_FaceNet(FRmodel)\n",
    "\n",
    "database = {}\n",
    "database[\"soumah\"] = img_to_encoding(\"Images/Database/Face_Resize_0.jpg\", FRmodel)\n"
   ]
  },
  {
   "cell_type": "markdown",
   "metadata": {},
   "source": [
    "# Application"
   ]
  },
  {
   "cell_type": "code",
   "execution_count": null,
   "metadata": {},
   "outputs": [
    {
     "name": "stdout",
     "output_type": "stream",
     "text": [
      "Are you in the Dataset , type either : 'YES' or 'NO'YES\n",
      "Images/WebCamDetection/opencv_frame_0.jpg written!\n",
      "Images/WebCamDetection/opencv_frame_1.jpg written!\n",
      "Not in the database.\n",
      "Not in the database.\n",
      "0.78430086\n",
      "Images/WebCamDetection/opencv_frame_2.jpg written!\n",
      "Not in the database.\n",
      "Not in the database.\n",
      "0.8577026\n",
      "Images/WebCamDetection/opencv_frame_3.jpg written!\n",
      "Not in the database.\n",
      "Not in the database.\n",
      "0.864835\n",
      "Images/WebCamDetection/opencv_frame_4.jpg written!\n"
     ]
    }
   ],
   "source": [
    "In_Dataset=input(\"Are you in the Dataset , type either : 'YES' or 'NO'\")\n",
    "if In_Dataset == \"YES\":\n",
    "        Video_Detection_Recognition(database,FRmodel)\n",
    "elif In_Dataset ==\"NO\":\n",
    "    Name_User = input(\"Enter your Name \")\n",
    "    Image_Location = input(\"Enter the location of a photo of yours so the model can recognize you\")\n",
    "    Add_to_Database(Name_User,Image_Location,database,FRmodel)\n",
    "    print(\"Correctly added to the Database\")\n",
    "else:\n",
    "    print(\"Either type : 'Yes' or 'NO' \")"
   ]
  },
  {
   "cell_type": "code",
   "execution_count": null,
   "metadata": {},
   "outputs": [],
   "source": []
  }
 ],
 "metadata": {
  "kernelspec": {
   "display_name": "Python 3",
   "language": "python",
   "name": "python3"
  },
  "language_info": {
   "codemirror_mode": {
    "name": "ipython",
    "version": 3
   },
   "file_extension": ".py",
   "mimetype": "text/x-python",
   "name": "python",
   "nbconvert_exporter": "python",
   "pygments_lexer": "ipython3",
   "version": "3.7.3"
  }
 },
 "nbformat": 4,
 "nbformat_minor": 2
}
